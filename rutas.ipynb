{
  "cells": [
    {
      "cell_type": "markdown",
      "metadata": {
        "colab_type": "text",
        "id": "view-in-github"
      },
      "source": [
        "<a href=\"https://colab.research.google.com/github/lubriongos/rutas/blob/main/rutas.ipynb\" target=\"_parent\"><img src=\"https://colab.research.google.com/assets/colab-badge.svg\" alt=\"Open In Colab\"/></a>"
      ]
    },
    {
      "cell_type": "code",
      "execution_count": 13,
      "metadata": {
        "colab": {
          "base_uri": "https://localhost:8080/"
        },
        "id": "OSFYvvyd628o",
        "outputId": "31083012-b451-4b14-8d27-61daced0a88f"
      },
      "outputs": [
        {
          "name": "stdout",
          "output_type": "stream",
          "text": [
            "Requirement already satisfied: PyPDF2 in /usr/local/lib/python3.7/dist-packages (1.26.0)\n",
            "##########################################\n",
            "#  Se generó exitosamente el archivo:    #\n",
            "#  .../Rutas/2021-04-04-12Z.pdf           #\n",
            "##########################################\n"
          ]
        }
      ],
      "source": [
        "!pip install PyPDF2\n",
        "import os\n",
        "import urllib.request\n",
        "import PyPDF2\n",
        "from PyPDF2 import PdfMerger, PdfReader\n",
        "\n",
        "year = \"2023\"\n",
        "month = \"07\"\n",
        "day = \"22\"\n",
        "valid = \"12\"\n",
        "filename = \"/content/drive/MyDrive/Rutas/\"+year+\"-\"+month+\"-\"+day+\"-\"+valid+\"Z\"+\".pdf\"\n",
        "\n",
        "# The path where all the images will be stored\n",
        "os.chdir(\"/content/drive/My Drive/Rutas/temp\")\n",
        "path = os.getcwd()\n",
        "\n",
        "# Download the images\n",
        "url = 'https://www.aviationweather.gov/data/iffdp/2430.pdf'\n",
        "urllib.request.urlretrieve(url, 'FL390.pdf')\n",
        "\n",
        "url = 'https://www.aviationweather.gov/data/iffdp/2431.pdf'\n",
        "urllib.request.urlretrieve(url, 'FL340.pdf')\n",
        "\n",
        "url = 'https://www.aviationweather.gov/data/iffdp/2432.pdf'\n",
        "urllib.request.urlretrieve(url, 'FL300.pdf')\n",
        "\n",
        "url = 'https://www.aviationweather.gov/data/iffdp/2433.pdf'\n",
        "urllib.request.urlretrieve(url, 'FL240.pdf')\n",
        "\n",
        "url = 'https://www.aviationweather.gov/data/iffdp/2434.pdf'\n",
        "urllib.request.urlretrieve(url, 'FL180.pdf')\n",
        "\n",
        "url = 'https://www.aviationweather.gov/data/iffdp/2130.pdf'\n",
        "urllib.request.urlretrieve(url, 'SigWX.pdf')\n",
        "\n",
        "# Read all pdfs that were previously downloaded\n",
        "listaPdfs = os.listdir(path)\n",
        "merger = PdfMerger()\n",
        "\n",
        "# Merge all pdfs into one\n",
        "for file in listaPdfs:\n",
        "    merger.append(PdfReader('/content/drive/MyDrive/Rutas/temp/'+file))\n",
        "\n",
        "if not os.path.exists(filename):\n",
        "    merger.write(filename)\n",
        "    print(\"##########################################\\n\",\n",
        "          \"The file was successfully generated:\\n\",\n",
        "          \".../Rutas/\"+year+\"-\"+month+\"-\"+day+\"-\"+valid+\"Z\"+\".pdf\\n\",\n",
        "          \"##########################################\")\n",
        "else:\n",
        "    merger.write(\"/content/drive/MyDrive/Rutas/\"+year +\n",
        "                 \"-\"+month+\"-\"+day+\"-\"+valid+\"Z(1)\"+\".pdf\")\n",
        "    print(\"##########################################\\n\",\n",
        "          \"File already EXISTING. Another one was generated:\\n\",\n",
        "          \".../Rutas/\"+year+\"-\"+month+\"-\"+day+\"-\"+valid+\"Z(1)\"+\".pdf\\n\",\n",
        "          \"##########################################\")"
      ]
    },
    {
      "cell_type": "markdown",
      "metadata": {
        "id": "eUAcz-cT67Ey"
      },
      "source": [
        "AUTOMATIC ROUTES \n",
        "\n",
        "Press the PLAY ▶ button to generate the routes.\n",
        "\n",
        "Important! Modify year, month, day and validity before running\n",
        "\n",
        "This program downloads the wind charts and SIGWX from Aviationweather in the drive folder .../Rutas/temp Then it joins them in a single file with format year-month-day-valid.pdf in the folder /Rutas\n",
        "\n",
        "Known issue:\n",
        "```\n",
        "FileNotFoundError: [Errno 2] No such file or directory: '/content/drive/My Drive/Rutas/temp'\n",
        "```\n",
        "To solve it, mount drive or run: \\n\n",
        "```\n",
        "from google.colab import drive \\n\n",
        "drive.mount('/content/drive')\n",
        "```"
      ]
    }
  ],
  "metadata": {
    "colab": {
      "authorship_tag": "ABX9TyPUy3umn0GivUXprfgnk1uy",
      "include_colab_link": true,
      "mount_file_id": "1BL-aKxMLbnT7uUWvD37jImcqCMHrpoqT",
      "name": "rutas.ipynb",
      "provenance": []
    },
    "kernelspec": {
      "display_name": "Python 3",
      "name": "python3"
    },
    "language_info": {
      "name": "python"
    }
  },
  "nbformat": 4,
  "nbformat_minor": 0
}
