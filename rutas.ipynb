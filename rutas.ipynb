{
  "nbformat": 4,
  "nbformat_minor": 0,
  "metadata": {
    "colab": {
      "name": "rutas.ipynb",
      "provenance": [],
      "mount_file_id": "1BL-aKxMLbnT7uUWvD37jImcqCMHrpoqT",
      "authorship_tag": "ABX9TyPUy3umn0GivUXprfgnk1uy",
      "include_colab_link": true
    },
    "kernelspec": {
      "name": "python3",
      "display_name": "Python 3"
    },
    "language_info": {
      "name": "python"
    }
  },
  "cells": [
    {
      "cell_type": "markdown",
      "metadata": {
        "id": "view-in-github",
        "colab_type": "text"
      },
      "source": [
        "<a href=\"https://colab.research.google.com/github/lubriongos/rutas/blob/main/rutas.ipynb\" target=\"_parent\"><img src=\"https://colab.research.google.com/assets/colab-badge.svg\" alt=\"Open In Colab\"/></a>"
      ]
    },
    {
      "cell_type": "code",
      "metadata": {
        "colab": {
          "base_uri": "https://localhost:8080/"
        },
        "id": "OSFYvvyd628o",
        "outputId": "31083012-b451-4b14-8d27-61daced0a88f"
      },
      "source": [
        "año=\"2021\"\n",
        "mes=\"04\"\n",
        "dia=\"04\"\n",
        "valid=\"12\"\n",
        "\n",
        "import os\n",
        "os.chdir(\"/content/drive/My Drive/Rutas/temp\")\n",
        "path = os.getcwd()\n",
        "#print(path)\n",
        "\n",
        "import urllib.request\n",
        "#print('Beginning file download with urllib2...')\n",
        "\n",
        "url = 'https://www.aviationweather.gov/data/iffdp/2430.pdf'\n",
        "urllib.request.urlretrieve(url, 'FL390.pdf')\n",
        "\n",
        "url = 'https://www.aviationweather.gov/data/iffdp/2431.pdf'\n",
        "urllib.request.urlretrieve(url, 'FL340.pdf')\n",
        "\n",
        "url = 'https://www.aviationweather.gov/data/iffdp/2432.pdf'\n",
        "urllib.request.urlretrieve(url, 'FL300.pdf')\n",
        "\n",
        "url = 'https://www.aviationweather.gov/data/iffdp/2433.pdf'\n",
        "urllib.request.urlretrieve(url, 'FL240.pdf')\n",
        "\n",
        "url = 'https://www.aviationweather.gov/data/iffdp/2434.pdf'\n",
        "urllib.request.urlretrieve(url, 'FL180.pdf')\n",
        "\n",
        "url = 'https://www.aviationweather.gov/data/iffdp/2130.pdf'\n",
        "urllib.request.urlretrieve(url, 'SigWX.pdf')\n",
        "\n",
        "\n",
        "!pip install PyPDF2\n",
        "import PyPDF2\n",
        "from PyPDF2 import PdfFileMerger, PdfFileReader\n",
        "import os\n",
        "listaPdfs = os.listdir('/content/drive/My Drive/Rutas/temp') #lee todos los pdf en la carpeta Rutas temp listaPdfs\n",
        "merger = PdfFileMerger()\n",
        "\n",
        "for file in listaPdfs:   #va copiando de a una las cartas en un pdf completo\n",
        "     merger.append(PdfFileReader('/content/drive/MyDrive/Rutas/temp/'+file))\n",
        "\n",
        "\n",
        "#merger.write(\"/content/drive/MyDrive/Rutas/\"+año+\"-\"+mes+\"-\"+dia+\"-\"+valid+\"Z\"+\".pdf\")\n",
        "\n",
        "if not os.path.exists(\"/content/drive/MyDrive/Rutas/\"+año+\"-\"+mes+\"-\"+dia+\"-\"+valid+\"Z\"+\".pdf\"):\n",
        "   merger.write(\"/content/drive/MyDrive/Rutas/\"+año+\"-\"+mes+\"-\"+dia+\"-\"+valid+\"Z\"+\".pdf\")\n",
        "   print(\"##########################################\")\n",
        "   print(\"#  Se generó exitosamente el archivo:    #\")\n",
        "   print(\"#  .../Rutas/\"+año+\"-\"+mes+\"-\"+dia+\"-\"+valid+\"Z\"+\".pdf\"+\"           #\")\n",
        "   print(\"##########################################\")\n",
        "else:\n",
        "   merger.write(\"/content/drive/MyDrive/Rutas/\"+año+\"-\"+mes+\"-\"+dia+\"-\"+valid+\"Z(1)\"+\".pdf\")\n",
        "   print(\"##########################################\")\n",
        "   print(\"#  Archivo ya EXISTENTE: se generó otro: #\")\n",
        "   print(\"#  .../Rutas/\"+año+\"-\"+mes+\"-\"+dia+\"-\"+valid+\"Z(1)\"+\".pdf\"+\"          #\")\n",
        "   print(\"##########################################\") "
      ],
      "execution_count": 13,
      "outputs": [
        {
          "output_type": "stream",
          "text": [
            "Requirement already satisfied: PyPDF2 in /usr/local/lib/python3.7/dist-packages (1.26.0)\n",
            "##########################################\n",
            "#  Se generó exitosamente el archivo:    #\n",
            "#  .../Rutas/2021-04-04-12Z.pdf           #\n",
            "##########################################\n"
          ],
          "name": "stdout"
        }
      ]
    },
    {
      "cell_type": "markdown",
      "metadata": {
        "id": "eUAcz-cT67Ey"
      },
      "source": [
        "RUTAS AUTOMÁTICAS\n",
        "Presionar el botón PLAY  ▶  de la siguiente sección para generar las\n",
        "rutas.\n",
        "\n",
        "Importante! modificar año, mes, dia y validez antes de correr\n",
        "\n",
        "Este programa descarga las cartas de viento y SIGWX de Aviationweather\n",
        "en la carpeta del drive .../Rutas/temp Luego las une en un único archivo\n",
        "con formato año-mes-dia-valid.pdf en la carpeta /Rutas"
      ]
    }
  ]
}